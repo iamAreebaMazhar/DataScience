{
 "cells": [
  {
   "cell_type": "code",
   "execution_count": 3,
   "id": "8c2876ec",
   "metadata": {},
   "outputs": [],
   "source": [
    "def is_even(num):\n",
    "    \"\"\"\n",
    "    This fucntions returns if a given number is even or odd\n",
    "    This is called a docstring.\n",
    "    \"\"\"\n",
    "    # body\n",
    "    if num%2==0:\n",
    "        return 'even'\n",
    "    else:\n",
    "        return 'odd'"
   ]
  },
  {
   "cell_type": "code",
   "execution_count": 19,
   "id": "0fce66e2",
   "metadata": {},
   "outputs": [
    {
     "name": "stdout",
     "output_type": "stream",
     "text": [
      "\n",
      "    This fucntions returns if a given number is even or odd\n",
      "    This is called a docstring.\n",
      "    \n"
     ]
    }
   ],
   "source": [
    "# how to access the documentation string\n",
    "print(is_even.__doc__)"
   ]
  },
  {
   "cell_type": "code",
   "execution_count": 4,
   "id": "684adb6e",
   "metadata": {},
   "outputs": [
    {
     "name": "stdout",
     "output_type": "stream",
     "text": [
      "odd\n",
      "even\n",
      "odd\n",
      "even\n",
      "odd\n",
      "even\n",
      "odd\n",
      "even\n",
      "odd\n",
      "even\n"
     ]
    }
   ],
   "source": [
    "# function call\n",
    "for i in range(1,11):\n",
    "    x=is_even(i)\n",
    "    print(x)\n",
    "    "
   ]
  },
  {
   "cell_type": "code",
   "execution_count": 8,
   "id": "c0e4573d",
   "metadata": {},
   "outputs": [
    {
     "name": "stdout",
     "output_type": "stream",
     "text": [
      "pagal hai kya\n"
     ]
    }
   ],
   "source": [
    "def is_even(num): # num is called a parameter\n",
    "    \"\"\"\n",
    "    This fucntions returns if a given number is even or odd\n",
    "    This is called a docstring.\n",
    "    \"\"\"\n",
    "    # body\n",
    "    if type(num)==int:          \n",
    "        if num%2==0:\n",
    "            return 'even'\n",
    "        else:\n",
    "            return 'odd'\n",
    "    else:\n",
    "        print('pagal hai kya')\n",
    "    \n",
    "is_even('hello') #hello is called an argument"
   ]
  },
  {
   "cell_type": "markdown",
   "id": "22ff11a8",
   "metadata": {},
   "source": [
    "## Arguments and parameters\n"
   ]
  },
  {
   "cell_type": "raw",
   "id": "98231d05",
   "metadata": {},
   "source": [
    "\n",
    "> Default Argument \n",
    "> Positional Argument\n",
    "> Keyword Argument"
   ]
  },
  {
   "cell_type": "code",
   "execution_count": 15,
   "id": "abad6f59",
   "metadata": {},
   "outputs": [
    {
     "data": {
      "text/plain": [
       "36"
      ]
     },
     "execution_count": 15,
     "metadata": {},
     "output_type": "execute_result"
    }
   ],
   "source": [
    "# default argument\n",
    "def power(a=1, b=2): # the value of a is called Argument\n",
    "    return a**b\n",
    "    \n",
    "power(6)"
   ]
  },
  {
   "cell_type": "code",
   "execution_count": 5,
   "id": "77cb8769",
   "metadata": {},
   "outputs": [
    {
     "data": {
      "text/plain": [
       "8"
      ]
     },
     "execution_count": 5,
     "metadata": {},
     "output_type": "execute_result"
    }
   ],
   "source": [
    "def power(a=1,b=3):\n",
    "    return a**b\n",
    "\n",
    "power(2)"
   ]
  },
  {
   "cell_type": "code",
   "execution_count": null,
   "id": "98487e85",
   "metadata": {},
   "outputs": [],
   "source": [
    "# positional Argument\n",
    "# the order in which you send the argument receicves the parameter in same order\n"
   ]
  },
  {
   "cell_type": "code",
   "execution_count": 7,
   "id": "3f7545f0",
   "metadata": {},
   "outputs": [
    {
     "data": {
      "text/plain": [
       "16"
      ]
     },
     "execution_count": 7,
     "metadata": {},
     "output_type": "execute_result"
    }
   ],
   "source": [
    "# keyword Argument\n",
    "def power(a=2,b=4):\n",
    "    return a**b\n",
    "\n",
    "power(b=3,a=2)"
   ]
  },
  {
   "cell_type": "markdown",
   "id": "0008d8d6",
   "metadata": {},
   "source": [
    "# *args and **kwargs"
   ]
  },
  {
   "cell_type": "raw",
   "id": "e6ca5fd0",
   "metadata": {},
   "source": [
    "They are special Python keywords that are used to pass the variable length of arguments to a function"
   ]
  },
  {
   "cell_type": "code",
   "execution_count": 17,
   "id": "85d97d57",
   "metadata": {},
   "outputs": [
    {
     "name": "stdout",
     "output_type": "stream",
     "text": [
      "(2, 3, 4, 5, 6, 7, 9)\n"
     ]
    },
    {
     "data": {
      "text/plain": [
       "45360"
      ]
     },
     "execution_count": 17,
     "metadata": {},
     "output_type": "execute_result"
    }
   ],
   "source": [
    "# *args \n",
    "# allows us to pass a variable number of non-keyword arguments \n",
    "#to a function.\n",
    "\n",
    "def multiply(*args): # u can use any name instead of args\n",
    "    product=1\n",
    "    \n",
    "    for i in args:\n",
    "        product=product*i\n",
    "        \n",
    "    print(args)\n",
    "    return product\n",
    "\n",
    "\n",
    "multiply(2,3,4,5,6,7,9)"
   ]
  },
  {
   "cell_type": "code",
   "execution_count": 16,
   "id": "5602070e",
   "metadata": {},
   "outputs": [
    {
     "data": {
      "text/plain": [
       "132"
      ]
     },
     "execution_count": 16,
     "metadata": {},
     "output_type": "execute_result"
    }
   ],
   "source": [
    "def sums(*args):\n",
    "    sums=0\n",
    "    for i in args:\n",
    "        sums=sums+i\n",
    "    return sums\n",
    "        \n",
    "sums(0,22,3,5,6,88,8)"
   ]
  },
  {
   "cell_type": "markdown",
   "id": "800240ab",
   "metadata": {},
   "source": [
    "\n",
    "\n",
    "# ** kwargs arguments \n"
   ]
  },
  {
   "cell_type": "raw",
   "id": "d78de7e5",
   "metadata": {},
   "source": [
    "# it allows us to pass any number of keyword argument.\n",
    "# means that they contain a key-value pair, like a python dictionary."
   ]
  },
  {
   "cell_type": "code",
   "execution_count": 21,
   "id": "624b1602",
   "metadata": {},
   "outputs": [],
   "source": [
    "def display(**kwargs):\n",
    "    for(key,value) in kwargs.items():\n",
    "        print(key,'-->',value)\n",
    "        "
   ]
  },
  {
   "cell_type": "code",
   "execution_count": 22,
   "id": "ef131c3d",
   "metadata": {},
   "outputs": [
    {
     "name": "stdout",
     "output_type": "stream",
     "text": [
      "india --> delhi\n",
      "UK --> london\n",
      "America --> Chicago\n",
      "pakistan --> islamabad\n"
     ]
    }
   ],
   "source": [
    "display(india='delhi',UK='london',America='Chicago',pakistan='islamabad')"
   ]
  },
  {
   "cell_type": "code",
   "execution_count": 22,
   "id": "cff69279",
   "metadata": {},
   "outputs": [
    {
     "name": "stdout",
     "output_type": "stream",
     "text": [
      "name --> rahul\n",
      "age --> 34\n",
      "gender --> male\n"
     ]
    }
   ],
   "source": [
    "def user_name(**kwargs):\n",
    "    for(key,value) in kwargs.items():\n",
    "        print(key,'-->',value)\n",
    "        \n",
    "user_name(name='rahul',age=34,gender='male')"
   ]
  },
  {
   "cell_type": "raw",
   "id": "238af463",
   "metadata": {},
   "source": [
    "# order of the arguments methods (normal, *args, **kwargs)"
   ]
  },
  {
   "cell_type": "markdown",
   "id": "903c3546",
   "metadata": {},
   "source": [
    "# how funcitons are executed in memory?\n"
   ]
  },
  {
   "cell_type": "raw",
   "id": "72ad73f3",
   "metadata": {},
   "source": [
    "what is the lifetime of a fucntion?\n",
    "Ans.  only between \"func call and return\" "
   ]
  },
  {
   "cell_type": "code",
   "execution_count": null,
   "id": "aaa4faaa",
   "metadata": {},
   "outputs": [],
   "source": [
    "# Pythontutor.com to visualize."
   ]
  },
  {
   "cell_type": "markdown",
   "id": "35ecd8b6",
   "metadata": {},
   "source": [
    "# Without return statement?"
   ]
  },
  {
   "cell_type": "code",
   "execution_count": 23,
   "id": "1a6e3094",
   "metadata": {},
   "outputs": [
    {
     "name": "stdout",
     "output_type": "stream",
     "text": [
      "None\n",
      "[1, 2, 3, 4]\n"
     ]
    }
   ],
   "source": [
    "l=[1,2,3]\n",
    "print(l.append(4))\n",
    "print(l)"
   ]
  },
  {
   "cell_type": "code",
   "execution_count": null,
   "id": "508c10e9",
   "metadata": {},
   "outputs": [],
   "source": [
    "def is_even(num):\n",
    "    \"\"\"\n",
    "    This fucntions returns if a given number is even or odd\n",
    "    This is called a docstring.\n",
    "    \"\"\"\n",
    "    # body\n",
    "    if num%2==0:\n",
    "        print('even')\n",
    "    else:\n",
    "        print('odd')\n",
    "        \n",
    "# if you write print instead of return then return is called by default and it value is none \n",
    "# see on \"pythontutor.com\" to better visualize!"
   ]
  },
  {
   "cell_type": "code",
   "execution_count": 24,
   "id": "9914ead4",
   "metadata": {},
   "outputs": [
    {
     "data": {
      "text/plain": [
       "'odd'"
      ]
     },
     "execution_count": 24,
     "metadata": {},
     "output_type": "execute_result"
    }
   ],
   "source": [
    "is_even(3)"
   ]
  }
 ],
 "metadata": {
  "kernelspec": {
   "display_name": "Python 3 (ipykernel)",
   "language": "python",
   "name": "python3"
  },
  "language_info": {
   "codemirror_mode": {
    "name": "ipython",
    "version": 3
   },
   "file_extension": ".py",
   "mimetype": "text/x-python",
   "name": "python",
   "nbconvert_exporter": "python",
   "pygments_lexer": "ipython3",
   "version": "3.11.5"
  }
 },
 "nbformat": 4,
 "nbformat_minor": 5
}
